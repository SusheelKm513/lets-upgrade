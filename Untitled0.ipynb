{
  "nbformat": 4,
  "nbformat_minor": 0,
  "metadata": {
    "colab": {
      "provenance": []
    },
    "kernelspec": {
      "name": "python3",
      "display_name": "Python 3"
    },
    "language_info": {
      "name": "python"
    }
  },
  "cells": [
    {
      "cell_type": "code",
      "execution_count": null,
      "metadata": {
        "colab": {
          "base_uri": "https://localhost:8080/"
        },
        "id": "ITW2q44RQiq8",
        "outputId": "3ce91a7e-9512-478e-b11f-2dea7fdae2e4"
      },
      "outputs": [
        {
          "output_type": "stream",
          "name": "stdout",
          "text": [
            "Student Grading Program\n",
            "Enter the marks obtained: 80\n",
            "The grade for the student is: A\n"
          ]
        }
      ],
      "source": [
        "def calculate_grade(marks):\n",
        "    if marks >= 90:\n",
        "        return \"A+\"\n",
        "    elif 80 <= marks < 90:\n",
        "        return \"A\"\n",
        "    elif 70 <= marks < 80:\n",
        "        return \"B\"\n",
        "    elif 60 <= marks < 70:\n",
        "        return \"C\"\n",
        "    elif 50 <= marks < 60:\n",
        "        return \"D\"\n",
        "    else:\n",
        "        return \"Fail\"\n",
        "\n",
        "def get_valid_marks():\n",
        "    while True:\n",
        "        try:\n",
        "            marks = float(input(\"Enter the marks obtained: \"))\n",
        "            if 0 <= marks <= 100:\n",
        "                return marks\n",
        "            else:\n",
        "                print(\"Marks should be between 0 and 100. Please try again.\")\n",
        "        except ValueError:\n",
        "            print(\"Invalid input. Please enter a valid number.\")\n",
        "\n",
        "def main():\n",
        "    print(\"Student Grading Program\")\n",
        "    while True:\n",
        "        marks = get_valid_marks()\n",
        "        grade = calculate_grade(marks)\n",
        "        print(f\"The grade for the student is: {grade}\")\n",
        "\n",
        "        another_student = input(\"Do you want to calculate for another student? (yes/no): \")\n",
        "        if another_student.lower() != \"yes\":\n",
        "            break\n",
        "\n",
        "    print(\"Thank you for using the Student Grading Program!\")\n",
        "\n",
        "if __name__ == \"__main__\":\n",
        "    main()"
      ]
    },
    {
      "cell_type": "code",
      "source": [
        "80\n"
      ],
      "metadata": {
        "id": "rQM_mU79QkwA"
      },
      "execution_count": null,
      "outputs": []
    }
  ]
}